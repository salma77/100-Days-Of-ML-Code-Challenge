{
 "cells": [
  {
   "cell_type": "code",
   "execution_count": 1,
   "metadata": {},
   "outputs": [],
   "source": [
    "import torch\n",
    "import numpy as np\n",
    "import matplotlib.pyplot as plt\n",
    "import seaborn as sns\n",
    "\n",
    "sns.set()"
   ]
  },
  {
   "cell_type": "code",
   "execution_count": 2,
   "metadata": {},
   "outputs": [],
   "source": [
    "#load the data\n",
    "data = np.genfromtxt('self_driving_model.txt', delimiter=' ')\n",
    "X = data[:, :4]\n",
    "y = data[:, 4:]"
   ]
  },
  {
   "cell_type": "code",
   "execution_count": 3,
   "metadata": {},
   "outputs": [],
   "source": [
    "def seq_model_to_sim(model):\n",
    "    params = []\n",
    "    model_shape = []\n",
    "    for layer in model:\n",
    "        if isinstance(layer, torch.nn.Linear):\n",
    "            params.extend(layer.weight.data.numpy().reshape(-1).tolist())\n",
    "            params.extend(layer.bias.data.numpy().reshape(-1).tolist())\n",
    "            model_shape.append(layer.weight.shape[0])\n",
    "    \n",
    "    print(\"Model shape: {}\".format(model_shape[:-1]))\n",
    "    to_print = \"\"\n",
    "    for b in params:\n",
    "        to_print += \"{:.4f},\".format(b)\n",
    "    print(\"Model weights: {}\".format(to_print[:-1]))\n"
   ]
  },
  {
   "cell_type": "code",
   "execution_count": 4,
   "metadata": {},
   "outputs": [],
   "source": [
    "#build an abstract model\n",
    "model = torch.nn.Sequential(torch.nn.Linear(4,10),\n",
    "                           torch.nn.ReLU(),\n",
    "                           torch.nn.Linear(10, 10),\n",
    "                           torch.nn.ReLU(),\n",
    "                           torch.nn.Linear(10, 2))"
   ]
  },
  {
   "cell_type": "code",
   "execution_count": 5,
   "metadata": {},
   "outputs": [],
   "source": [
    "#using Adam to optimize\n",
    "loss_function = torch.nn.MSELoss()\n",
    "opt = torch.optim.Adam(model.parameters(), lr=1e-3)"
   ]
  },
  {
   "cell_type": "code",
   "execution_count": 6,
   "metadata": {},
   "outputs": [],
   "source": [
    "#Train the model\n",
    "n_epochs = 100\n",
    "batch_size = 32\n",
    "losses = []\n",
    "for epoch in range(n_epochs):\n",
    "    \n",
    "    # Slice random batch\n",
    "    indices = np.random.randint(0, X.shape[0], batch_size)\n",
    "    inp = torch.from_numpy(X[indices]).type(torch.FloatTensor)\n",
    "    out = torch.from_numpy(y[indices]).type(torch.FloatTensor)\n",
    "    \n",
    "    # Forward prop\n",
    "    preds = model.forward(inp)\n",
    "    \n",
    "    # Calculate Loss\n",
    "    loss = loss_function(preds, out)\n",
    "    losses.append(loss)\n",
    "    \n",
    "    # Backprop\n",
    "    opt.zero_grad()\n",
    "    loss.backward()\n",
    "    opt.step()\n",
    "    "
   ]
  },
  {
   "cell_type": "code",
   "execution_count": 7,
   "metadata": {},
   "outputs": [
    {
     "data": {
      "image/png": "[encoded data removed]",
      "text/plain": [
       "<Figure size 432x288 with 1 Axes>"
      ]
     },
     "metadata": {
      "needs_background": "light"
     },
     "output_type": "display_data"
    }
   ],
   "source": [
    "# Plot loss vs iters\n",
    "epochs = np.arange(0, n_epochs, 1)\n",
    "plt.plot(epochs, losses);"
   ]
  },
  {
   "cell_type": "code",
   "execution_count": 8,
   "metadata": {},
   "outputs": [
    {
     "name": "stdout",
     "output_type": "stream",
     "text": [
      "Model shape: [10, 10]\n",
      "Model weights: -0.3593,0.4790,0.0469,0.1216,0.0089,-0.0962,0.0956,0.1578,0.1631,0.1553,0.4537,-0.0114,-0.1283,0.1297,0.2693,0.1886,-0.1711,0.0569,-0.4687,0.3471,-0.4286,-0.2568,0.1499,0.2975,0.4542,0.0172,0.1206,-0.3437,0.3559,0.4062,0.3600,0.2702,-0.4691,0.4078,-0.0517,-0.4122,0.3470,-0.1639,0.0333,-0.3979,-0.2832,-0.1749,-0.0293,0.4418,0.3631,0.1157,-0.2723,-0.0824,0.5004,-0.3728,0.2122,0.2287,0.1532,-0.0510,-0.1006,-0.0625,0.1272,0.2559,0.0864,-0.0903,-0.1335,0.2542,-0.2254,-0.0765,0.1011,-0.1191,0.2640,-0.2634,-0.1400,0.0876,0.2501,0.2694,-0.0994,0.1662,-0.0032,-0.1778,0.2497,0.2645,-0.2078,-0.0936,-0.0780,0.2781,0.2061,0.0770,-0.1607,-0.1228,-0.0341,-0.2486,0.0599,0.2950,-0.2700,-0.2757,0.1233,-0.0382,-0.2897,0.0838,0.0072,-0.2394,0.2999,-0.0332,0.2340,-0.0908,-0.1039,-0.2245,-0.3042,-0.1534,-0.1884,-0.1681,0.1816,0.2072,0.1407,0.0657,-0.0363,-0.0097,-0.2829,-0.0115,-0.0231,0.0524,0.0494,-0.0988,0.0424,0.1916,-0.2869,0.0931,0.1543,0.2136,-0.2006,-0.2535,0.1729,0.0781,-0.3008,0.0775,-0.0828,0.1918,0.0707,0.0641,0.2646,-0.2107,-0.0555,0.2142,-0.1396,-0.0576,0.3037,-0.1216,-0.0400,-0.0027,-0.2843,-0.0566,0.0205,-0.1012,-0.2719,0.1452,-0.0661,0.1010,0.1938,0.0479,-0.2699,-0.2035,-0.2275,0.0799,-0.1522,0.2430,0.1942,0.0846,-0.1380,-0.0213,-0.0590,-0.2320,-0.2916,-0.2196,-0.2072,0.0175,0.2249,-0.1796,0.3067,0.3043,0.1406,-0.1182,0.2878,0.2486,-0.0938,0.1847\n"
     ]
    }
   ],
   "source": [
    "# Get model's parameters\n",
    "seq_model_to_sim(model)"
   ]
  }
 ],
 "metadata": {
  "kernelspec": {
   "display_name": "Python 3",
   "language": "python",
   "name": "python3"
  },
  "language_info": {
   "codemirror_mode": {
    "name": "ipython",
    "version": 3
   },
   "file_extension": ".py",
   "mimetype": "text/x-python",
   "name": "python",
   "nbconvert_exporter": "python",
   "pygments_lexer": "ipython3",
   "version": "3.7.4"
  }
 },
 "nbformat": 4,
 "nbformat_minor": 2
}

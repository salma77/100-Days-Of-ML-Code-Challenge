{
 "cells": [
  {
   "cell_type": "code",
   "execution_count": 17,
   "metadata": {},
   "outputs": [],
   "source": [
    "import torch\n",
    "import numpy as np\n",
    "import matplotlib.pyplot as plt\n",
    "import seaborn as sns\n",
    "\n",
    "sns.set()"
   ]
  },
  {
   "cell_type": "code",
   "execution_count": 18,
   "metadata": {},
   "outputs": [],
   "source": [
    "#load the data\n",
    "data = np.genfromtxt('self_driving_model.txt', delimiter=' ')\n",
    "X = data[:, :4]\n",
    "y = data[:, 4:]"
   ]
  },
  {
   "cell_type": "code",
   "execution_count": 19,
   "metadata": {},
   "outputs": [],
   "source": [
    "def seq_model_to_sim(model):\n",
    "    params = []\n",
    "    model_shape = []\n",
    "    for layer in model:\n",
    "        if isinstance(layer, torch.nn.Linear):\n",
    "            params.extend(layer.weight.data.numpy().reshape(-1).tolist())\n",
    "            params.extend(layer.bias.data.numpy().reshape(-1).tolist())\n",
    "            model_shape.append(layer.weight.shape[0])\n",
    "    \n",
    "    print(\"Model shape: {}\".format(model_shape[:-1]))\n",
    "    to_print = \"\"\n",
    "    for b in params:\n",
    "        to_print += \"{:.4f},\".format(b)\n",
    "    print(\"Model weights: {}\".format(to_print[:-1]))\n"
   ]
  },
  {
   "cell_type": "code",
   "execution_count": 20,
   "metadata": {},
   "outputs": [],
   "source": [
    "#build an abstract model\n",
    "model = torch.nn.Sequential(torch.nn.Linear(4,10),\n",
    "                           torch.nn.ReLU(),\n",
    "                           torch.nn.Linear(10, 10),\n",
    "                           torch.nn.ReLU(),\n",
    "                           torch.nn.Linear(10, 2))"
   ]
  },
  {
   "cell_type": "code",
   "execution_count": 21,
   "metadata": {},
   "outputs": [],
   "source": [
    "#using Adam to optimize\n",
    "loss_function = torch.nn.MSELoss()\n",
    "opt = torch.optim.Adam(model.parameters(), lr=1e-3)"
   ]
  },
  {
   "cell_type": "code",
   "execution_count": 22,
   "metadata": {},
   "outputs": [],
   "source": [
    "#Train the model\n",
    "n_epochs = 100\n",
    "batch_size = 64\n",
    "losses = []\n",
    "for epoch in range(n_epochs):\n",
    "    \n",
    "    # Slice random batch\n",
    "    indices = np.random.randint(0, X.shape[0], batch_size)\n",
    "    inp = torch.from_numpy(X[indices]).type(torch.FloatTensor)\n",
    "    out = torch.from_numpy(y[indices]).type(torch.FloatTensor)\n",
    "    \n",
    "    # Forward prop\n",
    "    preds = model.forward(inp)\n",
    "    \n",
    "    # Calculate Loss\n",
    "    loss = loss_function(preds, out)\n",
    "    losses.append(loss)\n",
    "    \n",
    "    # Backprop\n",
    "    opt.zero_grad()\n",
    "    loss.backward()\n",
    "    opt.step()\n",
    "    "
   ]
  },
  {
   "cell_type": "code",
   "execution_count": 23,
   "metadata": {},
   "outputs": [
    {
     "data": {
      "image/png": "[encoded data removed]",
      "text/plain": [
       "<Figure size 432x288 with 1 Axes>"
      ]
     },
     "metadata": {},
     "output_type": "display_data"
    }
   ],
   "source": [
    "# Plot loss vs iters\n",
    "epochs = np.arange(0, n_epochs, 1)\n",
    "plt.plot(epochs, losses);"
   ]
  },
  {
   "cell_type": "code",
   "execution_count": 24,
   "metadata": {},
   "outputs": [
    {
     "name": "stdout",
     "output_type": "stream",
     "text": [
      "Model shape: [10, 10]\n",
      "Model weights: -0.0774,0.1884,0.3383,-0.4333,-0.0886,0.3277,0.4875,0.3485,-0.1502,0.0605,0.3556,-0.1615,0.4703,-0.2504,0.0985,0.3285,0.3708,0.3776,-0.3916,-0.1691,-0.4578,-0.1190,0.4093,-0.2748,-0.1351,-0.1354,0.2458,-0.5215,-0.0951,0.3620,0.4298,0.4899,-0.3965,-0.1753,0.4549,0.0628,-0.1269,0.2907,-0.4443,-0.2814,-0.5081,-0.5089,0.2011,-0.4316,-0.2360,-0.1951,0.1709,0.3104,0.5069,-0.2222,0.2153,0.1661,-0.0971,-0.2088,0.1266,-0.0144,0.1552,-0.0143,-0.1485,0.2606,0.2096,-0.2462,-0.0886,0.0353,0.2419,-0.0830,-0.0977,-0.0267,0.1313,-0.1401,0.1568,-0.0867,0.1667,0.2557,0.2053,-0.1224,0.0123,-0.3238,0.1746,-0.2771,0.0449,0.2945,0.2078,0.2617,-0.1002,0.1042,0.1806,0.0110,0.1591,0.1147,0.1991,-0.0936,-0.0573,0.1845,-0.1600,0.2277,0.0815,0.0458,0.1351,-0.0934,0.2589,0.2633,-0.1946,0.2325,0.0135,0.2170,0.1699,-0.2310,-0.0615,0.2948,-0.2338,-0.2283,-0.1250,0.0781,0.1710,-0.3054,-0.1656,0.0951,0.0239,-0.1293,-0.0460,0.0028,0.2872,-0.0681,0.1365,0.2997,0.2118,-0.0294,0.0363,-0.2451,-0.1472,-0.1897,0.2604,-0.1747,-0.0288,-0.0090,-0.0660,0.2074,0.0039,-0.3159,-0.1129,0.0458,0.2522,0.0134,0.1397,-0.0789,-0.1006,0.2091,0.2805,0.2829,0.0443,0.1689,-0.3148,0.2088,-0.2104,0.1404,0.0594,0.2368,-0.0448,0.0689,-0.0152,0.2252,0.0536,-0.1209,0.2861,0.1009,0.1633,-0.1264,0.3152,0.0269,-0.2196,0.2180,-0.1830,-0.2085,0.0536,0.0857,0.0212,0.0607,-0.1972,0.2772,0.1252,0.3052\n"
     ]
    }
   ],
   "source": [
    "# Get model's parameters\n",
    "seq_model_to_sim(model)"
   ]
  },
  {
   "cell_type": "markdown",
   "metadata": {},
   "source": [
    "0=ReLU, 1=None, 2=ReLU\n",
    "4, 10, 10, 10, 2"
   ]
  }
 ],
 "metadata": {
  "kernelspec": {
   "display_name": "Python 3",
   "language": "python",
   "name": "python3"
  },
  "language_info": {
   "codemirror_mode": {
    "name": "ipython",
    "version": 3
   },
   "file_extension": ".py",
   "mimetype": "text/x-python",
   "name": "python",
   "nbconvert_exporter": "python",
   "pygments_lexer": "ipython3",
   "version": "3.7.4"
  }
 },
 "nbformat": 4,
 "nbformat_minor": 2
}

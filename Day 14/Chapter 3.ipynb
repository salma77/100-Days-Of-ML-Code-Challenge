{
 "cells": [
  {
   "cell_type": "markdown",
   "metadata": {},
   "source": [
    "# Classification"
   ]
  },
  {
   "cell_type": "markdown",
   "metadata": {},
   "source": [
    "We'll work with the MNIST Dataset"
   ]
  },
  {
   "cell_type": "markdown",
   "metadata": {},
   "source": [
    "## Fetching the dataset"
   ]
  },
  {
   "cell_type": "code",
   "execution_count": 1,
   "metadata": {},
   "outputs": [
    {
     "data": {
      "text/plain": [
       "dict_keys(['data', 'target', 'feature_names', 'DESCR', 'details', 'categories', 'url'])"
      ]
     },
     "execution_count": 1,
     "metadata": {},
     "output_type": "execute_result"
    }
   ],
   "source": [
    "from sklearn.datasets import fetch_openml\n",
    "mnist = fetch_openml('mnist_784', version=1)\n",
    "mnist.keys()"
   ]
  },
  {
   "cell_type": "code",
   "execution_count": 2,
   "metadata": {},
   "outputs": [
    {
     "data": {
      "text/plain": [
       "array(['5', '0', '4', ..., '4', '5', '6'], dtype=object)"
      ]
     },
     "execution_count": 2,
     "metadata": {},
     "output_type": "execute_result"
    }
   ],
   "source": [
    "mnist['target']"
   ]
  },
  {
   "cell_type": "code",
   "execution_count": 3,
   "metadata": {},
   "outputs": [
    {
     "data": {
      "text/plain": [
       "array([[0., 0., 0., ..., 0., 0., 0.],\n",
       "       [0., 0., 0., ..., 0., 0., 0.],\n",
       "       [0., 0., 0., ..., 0., 0., 0.],\n",
       "       ...,\n",
       "       [0., 0., 0., ..., 0., 0., 0.],\n",
       "       [0., 0., 0., ..., 0., 0., 0.],\n",
       "       [0., 0., 0., ..., 0., 0., 0.]])"
      ]
     },
     "execution_count": 3,
     "metadata": {},
     "output_type": "execute_result"
    }
   ],
   "source": [
    "mnist['data']"
   ]
  },
  {
   "cell_type": "code",
   "execution_count": 4,
   "metadata": {},
   "outputs": [
    {
     "data": {
      "text/plain": [
       "(70000, 784)"
      ]
     },
     "execution_count": 4,
     "metadata": {},
     "output_type": "execute_result"
    }
   ],
   "source": [
    "mnist['data'].shape"
   ]
  },
  {
   "cell_type": "code",
   "execution_count": 5,
   "metadata": {},
   "outputs": [
    {
     "data": {
      "text/plain": [
       "\"**Author**: Yann LeCun, Corinna Cortes, Christopher J.C. Burges  \\n**Source**: [MNIST Website](http://yann.lecun.com/exdb/mnist/) - Date unknown  \\n**Please cite**:  \\n\\nThe MNIST database of handwritten digits with 784 features, raw data available at: http://yann.lecun.com/exdb/mnist/. It can be split in a training set of the first 60,000 examples, and a test set of 10,000 examples  \\n\\nIt is a subset of a larger set available from NIST. The digits have been size-normalized and centered in a fixed-size image. It is a good database for people who want to try learning techniques and pattern recognition methods on real-world data while spending minimal efforts on preprocessing and formatting. The original black and white (bilevel) images from NIST were size normalized to fit in a 20x20 pixel box while preserving their aspect ratio. The resulting images contain grey levels as a result of the anti-aliasing technique used by the normalization algorithm. the images were centered in a 28x28 image by computing the center of mass of the pixels, and translating the image so as to position this point at the center of the 28x28 field.  \\n\\nWith some classification methods (particularly template-based methods, such as SVM and K-nearest neighbors), the error rate improves when the digits are centered by bounding box rather than center of mass. If you do this kind of pre-processing, you should report it in your publications. The MNIST database was constructed from NIST's NIST originally designated SD-3 as their training set and SD-1 as their test set. However, SD-3 is much cleaner and easier to recognize than SD-1. The reason for this can be found on the fact that SD-3 was collected among Census Bureau employees, while SD-1 was collected among high-school students. Drawing sensible conclusions from learning experiments requires that the result be independent of the choice of training set and test among the complete set of samples. Therefore it was necessary to build a new database by mixing NIST's datasets.  \\n\\nThe MNIST training set is composed of 30,000 patterns from SD-3 and 30,000 patterns from SD-1. Our test set was composed of 5,000 patterns from SD-3 and 5,000 patterns from SD-1. The 60,000 pattern training set contained examples from approximately 250 writers. We made sure that the sets of writers of the training set and test set were disjoint. SD-1 contains 58,527 digit images written by 500 different writers. In contrast to SD-3, where blocks of data from each writer appeared in sequence, the data in SD-1 is scrambled. Writer identities for SD-1 is available and we used this information to unscramble the writers. We then split SD-1 in two: characters written by the first 250 writers went into our new training set. The remaining 250 writers were placed in our test set. Thus we had two sets with nearly 30,000 examples each. The new training set was completed with enough examples from SD-3, starting at pattern # 0, to make a full set of 60,000 training patterns. Similarly, the new test set was completed with SD-3 examples starting at pattern # 35,000 to make a full set with 60,000 test patterns. Only a subset of 10,000 test images (5,000 from SD-1 and 5,000 from SD-3) is available on this site. The full 60,000 sample training set is available.\\n\\nDownloaded from openml.org.\""
      ]
     },
     "execution_count": 5,
     "metadata": {},
     "output_type": "execute_result"
    }
   ],
   "source": [
    "mnist['DESCR']"
   ]
  },
  {
   "cell_type": "code",
   "execution_count": 6,
   "metadata": {},
   "outputs": [
    {
     "data": {
      "text/plain": [
       "{'id': '554',\n",
       " 'name': 'mnist_784',\n",
       " 'version': '1',\n",
       " 'format': 'ARFF',\n",
       " 'upload_date': '2014-09-29T03:28:38',\n",
       " 'licence': 'Public',\n",
       " 'url': 'https://www.openml.org/data/v1/download/52667/mnist_784.arff',\n",
       " 'file_id': '52667',\n",
       " 'default_target_attribute': 'class',\n",
       " 'tag': ['AzurePilot',\n",
       "  'OpenML-CC18',\n",
       "  'OpenML100',\n",
       "  'study_1',\n",
       "  'study_123',\n",
       "  'study_41',\n",
       "  'study_99',\n",
       "  'vision'],\n",
       " 'visibility': 'public',\n",
       " 'status': 'active',\n",
       " 'processing_date': '2020-11-20 20:12:09',\n",
       " 'md5_checksum': '0298d579eb1b86163de7723944c7e495'}"
      ]
     },
     "execution_count": 6,
     "metadata": {},
     "output_type": "execute_result"
    }
   ],
   "source": [
    "mnist['details']"
   ]
  },
  {
   "cell_type": "code",
   "execution_count": 7,
   "metadata": {},
   "outputs": [
    {
     "data": {
      "text/plain": [
       "['pixel1',\n",
       " 'pixel2',\n",
       " 'pixel3',\n",
       " 'pixel4',\n",
       " 'pixel5',\n",
       " 'pixel6',\n",
       " 'pixel7',\n",
       " 'pixel8',\n",
       " 'pixel9',\n",
       " 'pixel10',\n",
       " 'pixel11',\n",
       " 'pixel12',\n",
       " 'pixel13',\n",
       " 'pixel14',\n",
       " 'pixel15',\n",
       " 'pixel16',\n",
       " 'pixel17',\n",
       " 'pixel18',\n",
       " 'pixel19',\n",
       " 'pixel20',\n",
       " 'pixel21',\n",
       " 'pixel22',\n",
       " 'pixel23',\n",
       " 'pixel24',\n",
       " 'pixel25',\n",
       " 'pixel26',\n",
       " 'pixel27',\n",
       " 'pixel28',\n",
       " 'pixel29',\n",
       " 'pixel30',\n",
       " 'pixel31',\n",
       " 'pixel32',\n",
       " 'pixel33',\n",
       " 'pixel34',\n",
       " 'pixel35',\n",
       " 'pixel36',\n",
       " 'pixel37',\n",
       " 'pixel38',\n",
       " 'pixel39',\n",
       " 'pixel40',\n",
       " 'pixel41',\n",
       " 'pixel42',\n",
       " 'pixel43',\n",
       " 'pixel44',\n",
       " 'pixel45',\n",
       " 'pixel46',\n",
       " 'pixel47',\n",
       " 'pixel48',\n",
       " 'pixel49',\n",
       " 'pixel50',\n",
       " 'pixel51',\n",
       " 'pixel52',\n",
       " 'pixel53',\n",
       " 'pixel54',\n",
       " 'pixel55',\n",
       " 'pixel56',\n",
       " 'pixel57',\n",
       " 'pixel58',\n",
       " 'pixel59',\n",
       " 'pixel60',\n",
       " 'pixel61',\n",
       " 'pixel62',\n",
       " 'pixel63',\n",
       " 'pixel64',\n",
       " 'pixel65',\n",
       " 'pixel66',\n",
       " 'pixel67',\n",
       " 'pixel68',\n",
       " 'pixel69',\n",
       " 'pixel70',\n",
       " 'pixel71',\n",
       " 'pixel72',\n",
       " 'pixel73',\n",
       " 'pixel74',\n",
       " 'pixel75',\n",
       " 'pixel76',\n",
       " 'pixel77',\n",
       " 'pixel78',\n",
       " 'pixel79',\n",
       " 'pixel80',\n",
       " 'pixel81',\n",
       " 'pixel82',\n",
       " 'pixel83',\n",
       " 'pixel84',\n",
       " 'pixel85',\n",
       " 'pixel86',\n",
       " 'pixel87',\n",
       " 'pixel88',\n",
       " 'pixel89',\n",
       " 'pixel90',\n",
       " 'pixel91',\n",
       " 'pixel92',\n",
       " 'pixel93',\n",
       " 'pixel94',\n",
       " 'pixel95',\n",
       " 'pixel96',\n",
       " 'pixel97',\n",
       " 'pixel98',\n",
       " 'pixel99',\n",
       " 'pixel100',\n",
       " 'pixel101',\n",
       " 'pixel102',\n",
       " 'pixel103',\n",
       " 'pixel104',\n",
       " 'pixel105',\n",
       " 'pixel106',\n",
       " 'pixel107',\n",
       " 'pixel108',\n",
       " 'pixel109',\n",
       " 'pixel110',\n",
       " 'pixel111',\n",
       " 'pixel112',\n",
       " 'pixel113',\n",
       " 'pixel114',\n",
       " 'pixel115',\n",
       " 'pixel116',\n",
       " 'pixel117',\n",
       " 'pixel118',\n",
       " 'pixel119',\n",
       " 'pixel120',\n",
       " 'pixel121',\n",
       " 'pixel122',\n",
       " 'pixel123',\n",
       " 'pixel124',\n",
       " 'pixel125',\n",
       " 'pixel126',\n",
       " 'pixel127',\n",
       " 'pixel128',\n",
       " 'pixel129',\n",
       " 'pixel130',\n",
       " 'pixel131',\n",
       " 'pixel132',\n",
       " 'pixel133',\n",
       " 'pixel134',\n",
       " 'pixel135',\n",
       " 'pixel136',\n",
       " 'pixel137',\n",
       " 'pixel138',\n",
       " 'pixel139',\n",
       " 'pixel140',\n",
       " 'pixel141',\n",
       " 'pixel142',\n",
       " 'pixel143',\n",
       " 'pixel144',\n",
       " 'pixel145',\n",
       " 'pixel146',\n",
       " 'pixel147',\n",
       " 'pixel148',\n",
       " 'pixel149',\n",
       " 'pixel150',\n",
       " 'pixel151',\n",
       " 'pixel152',\n",
       " 'pixel153',\n",
       " 'pixel154',\n",
       " 'pixel155',\n",
       " 'pixel156',\n",
       " 'pixel157',\n",
       " 'pixel158',\n",
       " 'pixel159',\n",
       " 'pixel160',\n",
       " 'pixel161',\n",
       " 'pixel162',\n",
       " 'pixel163',\n",
       " 'pixel164',\n",
       " 'pixel165',\n",
       " 'pixel166',\n",
       " 'pixel167',\n",
       " 'pixel168',\n",
       " 'pixel169',\n",
       " 'pixel170',\n",
       " 'pixel171',\n",
       " 'pixel172',\n",
       " 'pixel173',\n",
       " 'pixel174',\n",
       " 'pixel175',\n",
       " 'pixel176',\n",
       " 'pixel177',\n",
       " 'pixel178',\n",
       " 'pixel179',\n",
       " 'pixel180',\n",
       " 'pixel181',\n",
       " 'pixel182',\n",
       " 'pixel183',\n",
       " 'pixel184',\n",
       " 'pixel185',\n",
       " 'pixel186',\n",
       " 'pixel187',\n",
       " 'pixel188',\n",
       " 'pixel189',\n",
       " 'pixel190',\n",
       " 'pixel191',\n",
       " 'pixel192',\n",
       " 'pixel193',\n",
       " 'pixel194',\n",
       " 'pixel195',\n",
       " 'pixel196',\n",
       " 'pixel197',\n",
       " 'pixel198',\n",
       " 'pixel199',\n",
       " 'pixel200',\n",
       " 'pixel201',\n",
       " 'pixel202',\n",
       " 'pixel203',\n",
       " 'pixel204',\n",
       " 'pixel205',\n",
       " 'pixel206',\n",
       " 'pixel207',\n",
       " 'pixel208',\n",
       " 'pixel209',\n",
       " 'pixel210',\n",
       " 'pixel211',\n",
       " 'pixel212',\n",
       " 'pixel213',\n",
       " 'pixel214',\n",
       " 'pixel215',\n",
       " 'pixel216',\n",
       " 'pixel217',\n",
       " 'pixel218',\n",
       " 'pixel219',\n",
       " 'pixel220',\n",
       " 'pixel221',\n",
       " 'pixel222',\n",
       " 'pixel223',\n",
       " 'pixel224',\n",
       " 'pixel225',\n",
       " 'pixel226',\n",
       " 'pixel227',\n",
       " 'pixel228',\n",
       " 'pixel229',\n",
       " 'pixel230',\n",
       " 'pixel231',\n",
       " 'pixel232',\n",
       " 'pixel233',\n",
       " 'pixel234',\n",
       " 'pixel235',\n",
       " 'pixel236',\n",
       " 'pixel237',\n",
       " 'pixel238',\n",
       " 'pixel239',\n",
       " 'pixel240',\n",
       " 'pixel241',\n",
       " 'pixel242',\n",
       " 'pixel243',\n",
       " 'pixel244',\n",
       " 'pixel245',\n",
       " 'pixel246',\n",
       " 'pixel247',\n",
       " 'pixel248',\n",
       " 'pixel249',\n",
       " 'pixel250',\n",
       " 'pixel251',\n",
       " 'pixel252',\n",
       " 'pixel253',\n",
       " 'pixel254',\n",
       " 'pixel255',\n",
       " 'pixel256',\n",
       " 'pixel257',\n",
       " 'pixel258',\n",
       " 'pixel259',\n",
       " 'pixel260',\n",
       " 'pixel261',\n",
       " 'pixel262',\n",
       " 'pixel263',\n",
       " 'pixel264',\n",
       " 'pixel265',\n",
       " 'pixel266',\n",
       " 'pixel267',\n",
       " 'pixel268',\n",
       " 'pixel269',\n",
       " 'pixel270',\n",
       " 'pixel271',\n",
       " 'pixel272',\n",
       " 'pixel273',\n",
       " 'pixel274',\n",
       " 'pixel275',\n",
       " 'pixel276',\n",
       " 'pixel277',\n",
       " 'pixel278',\n",
       " 'pixel279',\n",
       " 'pixel280',\n",
       " 'pixel281',\n",
       " 'pixel282',\n",
       " 'pixel283',\n",
       " 'pixel284',\n",
       " 'pixel285',\n",
       " 'pixel286',\n",
       " 'pixel287',\n",
       " 'pixel288',\n",
       " 'pixel289',\n",
       " 'pixel290',\n",
       " 'pixel291',\n",
       " 'pixel292',\n",
       " 'pixel293',\n",
       " 'pixel294',\n",
       " 'pixel295',\n",
       " 'pixel296',\n",
       " 'pixel297',\n",
       " 'pixel298',\n",
       " 'pixel299',\n",
       " 'pixel300',\n",
       " 'pixel301',\n",
       " 'pixel302',\n",
       " 'pixel303',\n",
       " 'pixel304',\n",
       " 'pixel305',\n",
       " 'pixel306',\n",
       " 'pixel307',\n",
       " 'pixel308',\n",
       " 'pixel309',\n",
       " 'pixel310',\n",
       " 'pixel311',\n",
       " 'pixel312',\n",
       " 'pixel313',\n",
       " 'pixel314',\n",
       " 'pixel315',\n",
       " 'pixel316',\n",
       " 'pixel317',\n",
       " 'pixel318',\n",
       " 'pixel319',\n",
       " 'pixel320',\n",
       " 'pixel321',\n",
       " 'pixel322',\n",
       " 'pixel323',\n",
       " 'pixel324',\n",
       " 'pixel325',\n",
       " 'pixel326',\n",
       " 'pixel327',\n",
       " 'pixel328',\n",
       " 'pixel329',\n",
       " 'pixel330',\n",
       " 'pixel331',\n",
       " 'pixel332',\n",
       " 'pixel333',\n",
       " 'pixel334',\n",
       " 'pixel335',\n",
       " 'pixel336',\n",
       " 'pixel337',\n",
       " 'pixel338',\n",
       " 'pixel339',\n",
       " 'pixel340',\n",
       " 'pixel341',\n",
       " 'pixel342',\n",
       " 'pixel343',\n",
       " 'pixel344',\n",
       " 'pixel345',\n",
       " 'pixel346',\n",
       " 'pixel347',\n",
       " 'pixel348',\n",
       " 'pixel349',\n",
       " 'pixel350',\n",
       " 'pixel351',\n",
       " 'pixel352',\n",
       " 'pixel353',\n",
       " 'pixel354',\n",
       " 'pixel355',\n",
       " 'pixel356',\n",
       " 'pixel357',\n",
       " 'pixel358',\n",
       " 'pixel359',\n",
       " 'pixel360',\n",
       " 'pixel361',\n",
       " 'pixel362',\n",
       " 'pixel363',\n",
       " 'pixel364',\n",
       " 'pixel365',\n",
       " 'pixel366',\n",
       " 'pixel367',\n",
       " 'pixel368',\n",
       " 'pixel369',\n",
       " 'pixel370',\n",
       " 'pixel371',\n",
       " 'pixel372',\n",
       " 'pixel373',\n",
       " 'pixel374',\n",
       " 'pixel375',\n",
       " 'pixel376',\n",
       " 'pixel377',\n",
       " 'pixel378',\n",
       " 'pixel379',\n",
       " 'pixel380',\n",
       " 'pixel381',\n",
       " 'pixel382',\n",
       " 'pixel383',\n",
       " 'pixel384',\n",
       " 'pixel385',\n",
       " 'pixel386',\n",
       " 'pixel387',\n",
       " 'pixel388',\n",
       " 'pixel389',\n",
       " 'pixel390',\n",
       " 'pixel391',\n",
       " 'pixel392',\n",
       " 'pixel393',\n",
       " 'pixel394',\n",
       " 'pixel395',\n",
       " 'pixel396',\n",
       " 'pixel397',\n",
       " 'pixel398',\n",
       " 'pixel399',\n",
       " 'pixel400',\n",
       " 'pixel401',\n",
       " 'pixel402',\n",
       " 'pixel403',\n",
       " 'pixel404',\n",
       " 'pixel405',\n",
       " 'pixel406',\n",
       " 'pixel407',\n",
       " 'pixel408',\n",
       " 'pixel409',\n",
       " 'pixel410',\n",
       " 'pixel411',\n",
       " 'pixel412',\n",
       " 'pixel413',\n",
       " 'pixel414',\n",
       " 'pixel415',\n",
       " 'pixel416',\n",
       " 'pixel417',\n",
       " 'pixel418',\n",
       " 'pixel419',\n",
       " 'pixel420',\n",
       " 'pixel421',\n",
       " 'pixel422',\n",
       " 'pixel423',\n",
       " 'pixel424',\n",
       " 'pixel425',\n",
       " 'pixel426',\n",
       " 'pixel427',\n",
       " 'pixel428',\n",
       " 'pixel429',\n",
       " 'pixel430',\n",
       " 'pixel431',\n",
       " 'pixel432',\n",
       " 'pixel433',\n",
       " 'pixel434',\n",
       " 'pixel435',\n",
       " 'pixel436',\n",
       " 'pixel437',\n",
       " 'pixel438',\n",
       " 'pixel439',\n",
       " 'pixel440',\n",
       " 'pixel441',\n",
       " 'pixel442',\n",
       " 'pixel443',\n",
       " 'pixel444',\n",
       " 'pixel445',\n",
       " 'pixel446',\n",
       " 'pixel447',\n",
       " 'pixel448',\n",
       " 'pixel449',\n",
       " 'pixel450',\n",
       " 'pixel451',\n",
       " 'pixel452',\n",
       " 'pixel453',\n",
       " 'pixel454',\n",
       " 'pixel455',\n",
       " 'pixel456',\n",
       " 'pixel457',\n",
       " 'pixel458',\n",
       " 'pixel459',\n",
       " 'pixel460',\n",
       " 'pixel461',\n",
       " 'pixel462',\n",
       " 'pixel463',\n",
       " 'pixel464',\n",
       " 'pixel465',\n",
       " 'pixel466',\n",
       " 'pixel467',\n",
       " 'pixel468',\n",
       " 'pixel469',\n",
       " 'pixel470',\n",
       " 'pixel471',\n",
       " 'pixel472',\n",
       " 'pixel473',\n",
       " 'pixel474',\n",
       " 'pixel475',\n",
       " 'pixel476',\n",
       " 'pixel477',\n",
       " 'pixel478',\n",
       " 'pixel479',\n",
       " 'pixel480',\n",
       " 'pixel481',\n",
       " 'pixel482',\n",
       " 'pixel483',\n",
       " 'pixel484',\n",
       " 'pixel485',\n",
       " 'pixel486',\n",
       " 'pixel487',\n",
       " 'pixel488',\n",
       " 'pixel489',\n",
       " 'pixel490',\n",
       " 'pixel491',\n",
       " 'pixel492',\n",
       " 'pixel493',\n",
       " 'pixel494',\n",
       " 'pixel495',\n",
       " 'pixel496',\n",
       " 'pixel497',\n",
       " 'pixel498',\n",
       " 'pixel499',\n",
       " 'pixel500',\n",
       " 'pixel501',\n",
       " 'pixel502',\n",
       " 'pixel503',\n",
       " 'pixel504',\n",
       " 'pixel505',\n",
       " 'pixel506',\n",
       " 'pixel507',\n",
       " 'pixel508',\n",
       " 'pixel509',\n",
       " 'pixel510',\n",
       " 'pixel511',\n",
       " 'pixel512',\n",
       " 'pixel513',\n",
       " 'pixel514',\n",
       " 'pixel515',\n",
       " 'pixel516',\n",
       " 'pixel517',\n",
       " 'pixel518',\n",
       " 'pixel519',\n",
       " 'pixel520',\n",
       " 'pixel521',\n",
       " 'pixel522',\n",
       " 'pixel523',\n",
       " 'pixel524',\n",
       " 'pixel525',\n",
       " 'pixel526',\n",
       " 'pixel527',\n",
       " 'pixel528',\n",
       " 'pixel529',\n",
       " 'pixel530',\n",
       " 'pixel531',\n",
       " 'pixel532',\n",
       " 'pixel533',\n",
       " 'pixel534',\n",
       " 'pixel535',\n",
       " 'pixel536',\n",
       " 'pixel537',\n",
       " 'pixel538',\n",
       " 'pixel539',\n",
       " 'pixel540',\n",
       " 'pixel541',\n",
       " 'pixel542',\n",
       " 'pixel543',\n",
       " 'pixel544',\n",
       " 'pixel545',\n",
       " 'pixel546',\n",
       " 'pixel547',\n",
       " 'pixel548',\n",
       " 'pixel549',\n",
       " 'pixel550',\n",
       " 'pixel551',\n",
       " 'pixel552',\n",
       " 'pixel553',\n",
       " 'pixel554',\n",
       " 'pixel555',\n",
       " 'pixel556',\n",
       " 'pixel557',\n",
       " 'pixel558',\n",
       " 'pixel559',\n",
       " 'pixel560',\n",
       " 'pixel561',\n",
       " 'pixel562',\n",
       " 'pixel563',\n",
       " 'pixel564',\n",
       " 'pixel565',\n",
       " 'pixel566',\n",
       " 'pixel567',\n",
       " 'pixel568',\n",
       " 'pixel569',\n",
       " 'pixel570',\n",
       " 'pixel571',\n",
       " 'pixel572',\n",
       " 'pixel573',\n",
       " 'pixel574',\n",
       " 'pixel575',\n",
       " 'pixel576',\n",
       " 'pixel577',\n",
       " 'pixel578',\n",
       " 'pixel579',\n",
       " 'pixel580',\n",
       " 'pixel581',\n",
       " 'pixel582',\n",
       " 'pixel583',\n",
       " 'pixel584',\n",
       " 'pixel585',\n",
       " 'pixel586',\n",
       " 'pixel587',\n",
       " 'pixel588',\n",
       " 'pixel589',\n",
       " 'pixel590',\n",
       " 'pixel591',\n",
       " 'pixel592',\n",
       " 'pixel593',\n",
       " 'pixel594',\n",
       " 'pixel595',\n",
       " 'pixel596',\n",
       " 'pixel597',\n",
       " 'pixel598',\n",
       " 'pixel599',\n",
       " 'pixel600',\n",
       " 'pixel601',\n",
       " 'pixel602',\n",
       " 'pixel603',\n",
       " 'pixel604',\n",
       " 'pixel605',\n",
       " 'pixel606',\n",
       " 'pixel607',\n",
       " 'pixel608',\n",
       " 'pixel609',\n",
       " 'pixel610',\n",
       " 'pixel611',\n",
       " 'pixel612',\n",
       " 'pixel613',\n",
       " 'pixel614',\n",
       " 'pixel615',\n",
       " 'pixel616',\n",
       " 'pixel617',\n",
       " 'pixel618',\n",
       " 'pixel619',\n",
       " 'pixel620',\n",
       " 'pixel621',\n",
       " 'pixel622',\n",
       " 'pixel623',\n",
       " 'pixel624',\n",
       " 'pixel625',\n",
       " 'pixel626',\n",
       " 'pixel627',\n",
       " 'pixel628',\n",
       " 'pixel629',\n",
       " 'pixel630',\n",
       " 'pixel631',\n",
       " 'pixel632',\n",
       " 'pixel633',\n",
       " 'pixel634',\n",
       " 'pixel635',\n",
       " 'pixel636',\n",
       " 'pixel637',\n",
       " 'pixel638',\n",
       " 'pixel639',\n",
       " 'pixel640',\n",
       " 'pixel641',\n",
       " 'pixel642',\n",
       " 'pixel643',\n",
       " 'pixel644',\n",
       " 'pixel645',\n",
       " 'pixel646',\n",
       " 'pixel647',\n",
       " 'pixel648',\n",
       " 'pixel649',\n",
       " 'pixel650',\n",
       " 'pixel651',\n",
       " 'pixel652',\n",
       " 'pixel653',\n",
       " 'pixel654',\n",
       " 'pixel655',\n",
       " 'pixel656',\n",
       " 'pixel657',\n",
       " 'pixel658',\n",
       " 'pixel659',\n",
       " 'pixel660',\n",
       " 'pixel661',\n",
       " 'pixel662',\n",
       " 'pixel663',\n",
       " 'pixel664',\n",
       " 'pixel665',\n",
       " 'pixel666',\n",
       " 'pixel667',\n",
       " 'pixel668',\n",
       " 'pixel669',\n",
       " 'pixel670',\n",
       " 'pixel671',\n",
       " 'pixel672',\n",
       " 'pixel673',\n",
       " 'pixel674',\n",
       " 'pixel675',\n",
       " 'pixel676',\n",
       " 'pixel677',\n",
       " 'pixel678',\n",
       " 'pixel679',\n",
       " 'pixel680',\n",
       " 'pixel681',\n",
       " 'pixel682',\n",
       " 'pixel683',\n",
       " 'pixel684',\n",
       " 'pixel685',\n",
       " 'pixel686',\n",
       " 'pixel687',\n",
       " 'pixel688',\n",
       " 'pixel689',\n",
       " 'pixel690',\n",
       " 'pixel691',\n",
       " 'pixel692',\n",
       " 'pixel693',\n",
       " 'pixel694',\n",
       " 'pixel695',\n",
       " 'pixel696',\n",
       " 'pixel697',\n",
       " 'pixel698',\n",
       " 'pixel699',\n",
       " 'pixel700',\n",
       " 'pixel701',\n",
       " 'pixel702',\n",
       " 'pixel703',\n",
       " 'pixel704',\n",
       " 'pixel705',\n",
       " 'pixel706',\n",
       " 'pixel707',\n",
       " 'pixel708',\n",
       " 'pixel709',\n",
       " 'pixel710',\n",
       " 'pixel711',\n",
       " 'pixel712',\n",
       " 'pixel713',\n",
       " 'pixel714',\n",
       " 'pixel715',\n",
       " 'pixel716',\n",
       " 'pixel717',\n",
       " 'pixel718',\n",
       " 'pixel719',\n",
       " 'pixel720',\n",
       " 'pixel721',\n",
       " 'pixel722',\n",
       " 'pixel723',\n",
       " 'pixel724',\n",
       " 'pixel725',\n",
       " 'pixel726',\n",
       " 'pixel727',\n",
       " 'pixel728',\n",
       " 'pixel729',\n",
       " 'pixel730',\n",
       " 'pixel731',\n",
       " 'pixel732',\n",
       " 'pixel733',\n",
       " 'pixel734',\n",
       " 'pixel735',\n",
       " 'pixel736',\n",
       " 'pixel737',\n",
       " 'pixel738',\n",
       " 'pixel739',\n",
       " 'pixel740',\n",
       " 'pixel741',\n",
       " 'pixel742',\n",
       " 'pixel743',\n",
       " 'pixel744',\n",
       " 'pixel745',\n",
       " 'pixel746',\n",
       " 'pixel747',\n",
       " 'pixel748',\n",
       " 'pixel749',\n",
       " 'pixel750',\n",
       " 'pixel751',\n",
       " 'pixel752',\n",
       " 'pixel753',\n",
       " 'pixel754',\n",
       " 'pixel755',\n",
       " 'pixel756',\n",
       " 'pixel757',\n",
       " 'pixel758',\n",
       " 'pixel759',\n",
       " 'pixel760',\n",
       " 'pixel761',\n",
       " 'pixel762',\n",
       " 'pixel763',\n",
       " 'pixel764',\n",
       " 'pixel765',\n",
       " 'pixel766',\n",
       " 'pixel767',\n",
       " 'pixel768',\n",
       " 'pixel769',\n",
       " 'pixel770',\n",
       " 'pixel771',\n",
       " 'pixel772',\n",
       " 'pixel773',\n",
       " 'pixel774',\n",
       " 'pixel775',\n",
       " 'pixel776',\n",
       " 'pixel777',\n",
       " 'pixel778',\n",
       " 'pixel779',\n",
       " 'pixel780',\n",
       " 'pixel781',\n",
       " 'pixel782',\n",
       " 'pixel783',\n",
       " 'pixel784']"
      ]
     },
     "execution_count": 7,
     "metadata": {},
     "output_type": "execute_result"
    }
   ],
   "source": [
    "mnist['feature_names']"
   ]
  },
  {
   "cell_type": "code",
   "execution_count": 8,
   "metadata": {},
   "outputs": [
    {
     "name": "stdout",
     "output_type": "stream",
     "text": [
      "(70000, 784)\n",
      "(70000,)\n"
     ]
    }
   ],
   "source": [
    "X, y = mnist['data'], mnist['target']\n",
    "print(X.shape)\n",
    "print(y.shape)"
   ]
  },
  {
   "cell_type": "code",
   "execution_count": 9,
   "metadata": {},
   "outputs": [
    {
     "data": {
      "text/plain": [
       "<Figure size 640x480 with 1 Axes>"
      ]
     },
     "metadata": {},
     "output_type": "display_data"
    }
   ],
   "source": [
    "import matplotlib as mpl\n",
    "import matplotlib.pyplot as plt\n",
    "\n",
    "some_digit = X[0]\n",
    "some_digit_image = some_digit.reshape(28, 28)\n",
    "\n",
    "plt.imshow(some_digit_image, cmap='binary')\n",
    "plt.axis('off')\n",
    "plt.show();"
   ]
  },
  {
   "cell_type": "code",
   "execution_count": 10,
   "metadata": {},
   "outputs": [
    {
     "data": {
      "text/plain": [
       "'5'"
      ]
     },
     "execution_count": 10,
     "metadata": {},
     "output_type": "execute_result"
    }
   ],
   "source": [
    "y[0]"
   ]
  },
  {
   "cell_type": "code",
   "execution_count": 11,
   "metadata": {},
   "outputs": [],
   "source": [
    "#Casting labels to be integers\n",
    "import numpy as np\n",
    "y = y.astype(np.uint8)"
   ]
  },
  {
   "cell_type": "code",
   "execution_count": 12,
   "metadata": {},
   "outputs": [],
   "source": [
    "def plot_digit(data):\n",
    "    image = data.reshape(28, 28)\n",
    "    plt.imshow(image, cmap = mpl.cm.binary,\n",
    "               interpolation=\"nearest\")\n",
    "    plt.axis(\"off\")"
   ]
  },
  {
   "cell_type": "code",
   "execution_count": 13,
   "metadata": {},
   "outputs": [],
   "source": [
    "def plot_digits(instances, images_per_row=10, **options):\n",
    "    size = 28\n",
    "    images_per_row = min(len(instances), images_per_row)\n",
    "    images = [instance.reshape(size,size) for instance in instances]\n",
    "    n_rows = (len(instances) - 1) // images_per_row + 1\n",
    "    row_images = []\n",
    "    n_empty = n_rows * images_per_row - len(instances)\n",
    "    images.append(np.zeros((size, size * n_empty)))\n",
    "    for row in range(n_rows):\n",
    "        rimages = images[row * images_per_row : (row + 1) * images_per_row]\n",
    "        row_images.append(np.concatenate(rimages, axis=1))\n",
    "    image = np.concatenate(row_images, axis=0)\n",
    "    plt.imshow(image, cmap = mpl.cm.binary, **options)\n",
    "    plt.axis(\"off\")"
   ]
  },
  {
   "cell_type": "code",
   "execution_count": 14,
   "metadata": {},
   "outputs": [
    {
     "data": {
      "image/png": "[encoded data removed]",
      "text/plain": [
       "<Figure size 648x648 with 1 Axes>"
      ]
     },
     "metadata": {
      "needs_background": "light"
     },
     "output_type": "display_data"
    }
   ],
   "source": [
    "plt.figure(figsize=(9,9))\n",
    "example_images = X[:100]\n",
    "plot_digits(example_images, images_per_row=10)\n",
    "plt.show()"
   ]
  },
  {
   "cell_type": "code",
   "execution_count": 15,
   "metadata": {},
   "outputs": [],
   "source": [
    "#The train-test split is already done and \n",
    "#the data is already shuffled so that the first 60K\n",
    "#instances are the training set and the rest are the test set\n",
    "X_train, X_test, y_train, y_test = X[:60000], X[60000:], y[:60000], y[60000:]"
   ]
  },
  {
   "cell_type": "markdown",
   "metadata": {},
   "source": [
    "## Training a Binary Classifier"
   ]
  },
  {
   "cell_type": "code",
   "execution_count": 16,
   "metadata": {},
   "outputs": [],
   "source": [
    "y_train_5 = (y_train == 5)\n",
    "y_test_5 = (y_test == 5)"
   ]
  },
  {
   "cell_type": "code",
   "execution_count": 17,
   "metadata": {},
   "outputs": [
    {
     "data": {
      "text/plain": [
       "SGDClassifier(alpha=0.0001, average=False, class_weight=None,\n",
       "              early_stopping=False, epsilon=0.1, eta0=0.0, fit_intercept=True,\n",
       "              l1_ratio=0.15, learning_rate='optimal', loss='hinge',\n",
       "              max_iter=1000, n_iter_no_change=5, n_jobs=None, penalty='l2',\n",
       "              power_t=0.5, random_state=42, shuffle=True, tol=0.001,\n",
       "              validation_fraction=0.1, verbose=0, warm_start=False)"
      ]
     },
     "execution_count": 17,
     "metadata": {},
     "output_type": "execute_result"
    }
   ],
   "source": [
    "# We will train a stochastic gradient descent classifier\n",
    "from sklearn.linear_model import SGDClassifier\n",
    "\n",
    "sgd_clf = SGDClassifier(random_state=42)\n",
    "sgd_clf.fit(X_train, y_train_5)"
   ]
  },
  {
   "cell_type": "code",
   "execution_count": 18,
   "metadata": {},
   "outputs": [
    {
     "data": {
      "text/plain": [
       "array([ True])"
      ]
     },
     "execution_count": 18,
     "metadata": {},
     "output_type": "execute_result"
    }
   ],
   "source": [
    "sgd_clf.predict([some_digit])"
   ]
  },
  {
   "cell_type": "markdown",
   "metadata": {},
   "source": [
    "## Performance Measures"
   ]
  },
  {
   "cell_type": "markdown",
   "metadata": {},
   "source": [
    "### Measuring Accuracy Using Cross-Validation"
   ]
  },
  {
   "cell_type": "code",
   "execution_count": 23,
   "metadata": {},
   "outputs": [
    {
     "name": "stdout",
     "output_type": "stream",
     "text": [
      "0.95035\n",
      "0.96035\n",
      "0.9604\n"
     ]
    }
   ],
   "source": [
    "# Implementing my own cross validation function\n",
    "from sklearn.model_selection import StratifiedKFold\n",
    "from sklearn.base import clone\n",
    "\n",
    "skfolds = StratifiedKFold(n_splits=3, random_state=42)\n",
    "\n",
    "for train_index, test_index in skfolds.split(X_train, y_train_5):\n",
    "    clone_clf = clone(sgd_clf)\n",
    "    X_train_folds = X_train[train_index]\n",
    "    y_train_folds = y_train_5[train_index]\n",
    "    X_test_fold = X_train[test_index]\n",
    "    y_test_fold = y_train_5[test_index]\n",
    "    \n",
    "    clone_clf.fit(X_train_folds, y_train_folds)\n",
    "    y_pred = clone_clf.predict(X_test_fold)\n",
    "    n_correct = sum(y_pred == y_test_fold)\n",
    "    \n",
    "    print(n_correct/len(y_pred))"
   ]
  },
  {
   "cell_type": "code",
   "execution_count": 24,
   "metadata": {},
   "outputs": [
    {
     "data": {
      "text/plain": [
       "array([0.95035, 0.96035, 0.9604 ])"
      ]
     },
     "execution_count": 24,
     "metadata": {},
     "output_type": "execute_result"
    }
   ],
   "source": [
    "# Now the normal sklearn stratified fold cross val\n",
    "from sklearn.model_selection import cross_val_score\n",
    "cross_val_score(sgd_clf, X_train, y_train_5, cv=3, scoring='accuracy')"
   ]
  },
  {
   "cell_type": "code",
   "execution_count": 25,
   "metadata": {},
   "outputs": [],
   "source": [
    "from sklearn.base import BaseEstimator\n",
    "\n",
    "class Never5Classifier(BaseEstimator):\n",
    "    def fit(self, X, y=None):\n",
    "        return self\n",
    "    def predict(self, X):\n",
    "        return np.zeros((len(X), 1), dtype=bool)"
   ]
  },
  {
   "cell_type": "code",
   "execution_count": 26,
   "metadata": {},
   "outputs": [
    {
     "data": {
      "text/plain": [
       "array([0.91125, 0.90855, 0.90915])"
      ]
     },
     "execution_count": 26,
     "metadata": {},
     "output_type": "execute_result"
    }
   ],
   "source": [
    "dummy_clf = Never5Classifier()\n",
    "cross_val_score(dummy_clf, X_train, y_train_5, cv=3, scoring='accuracy')"
   ]
  },
  {
   "cell_type": "markdown",
   "metadata": {},
   "source": [
    "### Confusion Matrix"
   ]
  },
  {
   "cell_type": "code",
   "execution_count": 27,
   "metadata": {},
   "outputs": [],
   "source": [
    "from sklearn.model_selection import cross_val_predict\n",
    "\n",
    "y_train_predict = cross_val_predict(sgd_clf, X_train, y_train_5, cv=3)"
   ]
  },
  {
   "cell_type": "markdown",
   "metadata": {},
   "source": [
    "*Note:* `cross_val_predict` gives you the clean predictions made on each test fold while `cross_val_score` returns the evaluation scores"
   ]
  },
  {
   "cell_type": "code",
   "execution_count": 28,
   "metadata": {},
   "outputs": [
    {
     "data": {
      "text/plain": [
       "array([[53892,   687],\n",
       "       [ 1891,  3530]], dtype=int64)"
      ]
     },
     "execution_count": 28,
     "metadata": {},
     "output_type": "execute_result"
    }
   ],
   "source": [
    "from sklearn.metrics import confusion_matrix\n",
    "confusion_matrix(y_train_5, y_train_predict)"
   ]
  },
  {
   "cell_type": "markdown",
   "metadata": {},
   "source": [
    " _THE CONFUSION MATRIX_\n",
    "<img src=\"data:image/png;base64,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\">"
   ]
  },
  {
   "cell_type": "code",
   "execution_count": 30,
   "metadata": {},
   "outputs": [
    {
     "data": {
      "text/plain": [
       "array([[54579,     0],\n",
       "       [    0,  5421]], dtype=int64)"
      ]
     },
     "execution_count": 30,
     "metadata": {},
     "output_type": "execute_result"
    }
   ],
   "source": [
    "# Let's pretend we reached perfection\n",
    "y_train_perfect_predictions = y_train_5\n",
    "confusion_matrix(y_train_5, y_train_perfect_predictions)"
   ]
  },
  {
   "cell_type": "markdown",
   "metadata": {},
   "source": [
    "If we want to calculate a certain number to measure performance using the confusion matrix\n",
    "<img src=\"data:image/png;base64,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\">"
   ]
  },
  {
   "cell_type": "code",
   "execution_count": 31,
   "metadata": {},
   "outputs": [
    {
     "name": "stdout",
     "output_type": "stream",
     "text": [
      "Precision: 0.8370879772350012\n",
      "Recall: 0.6511713705958311\n"
     ]
    }
   ],
   "source": [
    "from sklearn.metrics import precision_score, recall_score\n",
    "print(\"Precision:\", precision_score(y_train_5, y_train_predict))\n",
    "print(\"Recall:\", recall_score(y_train_5, y_train_predict))"
   ]
  },
  {
   "cell_type": "markdown",
   "metadata": {},
   "source": [
    "Another metric that combines both precision and recall is something called the f1 score which is just the harmonic mean of them\n",
    "<img src=\"data:image/png;base64,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\">"
   ]
  },
  {
   "cell_type": "code",
   "execution_count": 32,
   "metadata": {},
   "outputs": [
    {
     "data": {
      "text/plain": [
       "0.7325171197343846"
      ]
     },
     "execution_count": 32,
     "metadata": {},
     "output_type": "execute_result"
    }
   ],
   "source": [
    "from sklearn.metrics import f1_score\n",
    "f1_score(y_train_5, y_train_predict)"
   ]
  },
  {
   "cell_type": "code",
   "execution_count": 33,
   "metadata": {},
   "outputs": [
    {
     "data": {
      "text/plain": [
       "array([2164.22030239])"
      ]
     },
     "execution_count": 33,
     "metadata": {},
     "output_type": "execute_result"
    }
   ],
   "source": [
    "y_scores = sgd_clf.decision_function([some_digit])\n",
    "y_scores"
   ]
  },
  {
   "cell_type": "code",
   "execution_count": 35,
   "metadata": {},
   "outputs": [
    {
     "data": {
      "text/plain": [
       "array([ True])"
      ]
     },
     "execution_count": 35,
     "metadata": {},
     "output_type": "execute_result"
    }
   ],
   "source": [
    "threshold = 0\n",
    "y_some_digit_pred = (y_scores > threshold)\n",
    "y_some_digit_pred"
   ]
  },
  {
   "cell_type": "code",
   "execution_count": 38,
   "metadata": {},
   "outputs": [
    {
     "data": {
      "text/plain": [
       "array([False])"
      ]
     },
     "execution_count": 38,
     "metadata": {},
     "output_type": "execute_result"
    }
   ],
   "source": [
    "threshold = 8000\n",
    "y_some_digit_pred = (y_scores > threshold)\n",
    "y_some_digit_pred"
   ]
  },
  {
   "cell_type": "code",
   "execution_count": 39,
   "metadata": {},
   "outputs": [],
   "source": [
    "y_scores = cross_val_predict(sgd_clf, X_train, y_train_5, cv=3, method='decision_function')"
   ]
  },
  {
   "cell_type": "code",
   "execution_count": 40,
   "metadata": {},
   "outputs": [],
   "source": [
    "from sklearn.metrics import precision_recall_curve\n",
    "\n",
    "precisions, recalls, thresholds = precision_recall_curve(y_train_5, y_scores)"
   ]
  },
  {
   "cell_type": "code",
   "execution_count": 41,
   "metadata": {},
   "outputs": [
    {
     "data": {
      "image/png": "[encoded data removed]",
      "text/plain": [
       "<Figure size 576x288 with 1 Axes>"
      ]
     },
     "metadata": {
      "needs_background": "light"
     },
     "output_type": "display_data"
    }
   ],
   "source": [
    "def plot_precision_recall_vs_threshold(precisions, recalls, thresholds):\n",
    "    plt.plot(thresholds, precisions[:-1], \"b--\", label=\"Precision\", linewidth=2)\n",
    "    plt.plot(thresholds, recalls[:-1], \"g-\", label=\"Recall\", linewidth=2)\n",
    "    plt.legend(loc=\"center right\", fontsize=16) \n",
    "    plt.xlabel(\"Threshold\", fontsize=16)       \n",
    "    plt.grid(True)                              \n",
    "    plt.axis([-50000, 50000, 0, 1])             \n",
    "\n",
    "\n",
    "\n",
    "recall_90_precision = recalls[np.argmax(precisions >= 0.90)]\n",
    "threshold_90_precision = thresholds[np.argmax(precisions >= 0.90)]\n",
    "\n",
    "\n",
    "plt.figure(figsize=(8, 4))                                                                 \n",
    "plot_precision_recall_vs_threshold(precisions, recalls, thresholds)\n",
    "plt.plot([threshold_90_precision, threshold_90_precision], [0., 0.9], \"r:\")                 \n",
    "plt.plot([-50000, threshold_90_precision], [0.9, 0.9], \"r:\")                                \n",
    "plt.plot([-50000, threshold_90_precision], [recall_90_precision, recall_90_precision], \"r:\")\n",
    "plt.plot([threshold_90_precision], [0.9], \"ro\")                                            \n",
    "plt.plot([threshold_90_precision], [recall_90_precision], \"ro\")                                                   \n",
    "plt.show();"
   ]
  },
  {
   "cell_type": "code",
   "execution_count": null,
   "metadata": {},
   "outputs": [],
   "source": []
  },
  {
   "cell_type": "code",
   "execution_count": null,
   "metadata": {},
   "outputs": [],
   "source": []
  },
  {
   "cell_type": "code",
   "execution_count": null,
   "metadata": {},
   "outputs": [],
   "source": []
  },
  {
   "cell_type": "code",
   "execution_count": null,
   "metadata": {},
   "outputs": [],
   "source": []
  },
  {
   "cell_type": "code",
   "execution_count": null,
   "metadata": {},
   "outputs": [],
   "source": []
  },
  {
   "cell_type": "code",
   "execution_count": null,
   "metadata": {},
   "outputs": [],
   "source": []
  },
  {
   "cell_type": "code",
   "execution_count": null,
   "metadata": {},
   "outputs": [],
   "source": []
  },
  {
   "cell_type": "code",
   "execution_count": null,
   "metadata": {},
   "outputs": [],
   "source": []
  },
  {
   "cell_type": "code",
   "execution_count": null,
   "metadata": {},
   "outputs": [],
   "source": []
  },
  {
   "cell_type": "code",
   "execution_count": null,
   "metadata": {},
   "outputs": [],
   "source": []
  },
  {
   "cell_type": "code",
   "execution_count": null,
   "metadata": {},
   "outputs": [],
   "source": []
  },
  {
   "cell_type": "code",
   "execution_count": null,
   "metadata": {},
   "outputs": [],
   "source": []
  },
  {
   "cell_type": "code",
   "execution_count": null,
   "metadata": {},
   "outputs": [],
   "source": []
  },
  {
   "cell_type": "code",
   "execution_count": null,
   "metadata": {},
   "outputs": [],
   "source": []
  },
  {
   "cell_type": "code",
   "execution_count": null,
   "metadata": {},
   "outputs": [],
   "source": []
  }
 ],
 "metadata": {
  "kernelspec": {
   "display_name": "Python 3",
   "language": "python",
   "name": "python3"
  },
  "language_info": {
   "codemirror_mode": {
    "name": "ipython",
    "version": 3
   },
   "file_extension": ".py",
   "mimetype": "text/x-python",
   "name": "python",
   "nbconvert_exporter": "python",
   "pygments_lexer": "ipython3",
   "version": "3.7.4"
  }
 },
 "nbformat": 4,
 "nbformat_minor": 2
}
